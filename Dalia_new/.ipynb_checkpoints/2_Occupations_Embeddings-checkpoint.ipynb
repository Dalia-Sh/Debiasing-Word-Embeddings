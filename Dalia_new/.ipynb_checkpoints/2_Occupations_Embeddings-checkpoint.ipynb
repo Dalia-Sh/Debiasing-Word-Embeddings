{
 "cells": [
  {
   "cell_type": "markdown",
   "metadata": {},
   "source": [
    "# Importing Professions"
   ]
  },
  {
   "cell_type": "raw",
   "metadata": {},
   "source": [
    "# Preprocessing using R: Converting JSON format to csv.\n",
    "setwd(\"/Users/daliashanshal/DS8008-project/data\")\n",
    "library(rjson)\n",
    "professionsJSON = fromJSON(file=\"professions.json\")\n",
    "myprofessions = unlist(professionsJSON)\n",
    "idx = seq(1,length(myprofessions), by=3)\n",
    "myprofessions = myprofessions[idx]\n",
    "myprofessions = c(myprofessions, \"she\", \"he\")\n",
    "myprofessions = as.data.frame(myprofessions)\n",
    "write.csv(myprofessions, file=\"myprofessions.csv\")"
   ]
  },
  {
   "cell_type": "markdown",
   "metadata": {},
   "source": [
    "STEP 1: Importing Professions CSV format"
   ]
  },
  {
   "cell_type": "code",
   "execution_count": 1,
   "metadata": {},
   "outputs": [
    {
     "name": "stdout",
     "output_type": "stream",
     "text": [
      "   Unnamed: 0 myprofessions\n",
      "0           1    accountant\n",
      "1           2  acquaintance\n",
      "2           3         actor\n",
      "3           4       actress\n"
     ]
    }
   ],
   "source": [
    "import pandas as pd\n",
    "import os\n",
    "os.getcwd()\n",
    "data = pd.read_csv(\"myprofessions.csv\", encoding=\"latin1\")\n",
    "print(data.head(4))\n",
    "# 320 professions.I added she, he at the end for embedding and pojection purposes.\n",
    "\n",
    "# I only select the professions column I want to use\n",
    "myprofessions = data.iloc[:,1]\n",
    "professions = myprofessions.values.tolist()"
   ]
  },
  {
   "cell_type": "markdown",
   "metadata": {},
   "source": [
    "STEP 2: Some Preprocessing "
   ]
  },
  {
   "cell_type": "code",
   "execution_count": 2,
   "metadata": {},
   "outputs": [],
   "source": [
    "#I want to remomve the '_', so that the word for ex, vice_chancellor\n",
    "# become vice-chancellor. I need the correct format to find it in glove\n",
    "import re\n",
    "professions = [re.sub('_', \"-\", p) for p in professions]"
   ]
  },
  {
   "cell_type": "markdown",
   "metadata": {},
   "source": [
    "# Mapping Professions to their GloVe embedding"
   ]
  },
  {
   "cell_type": "markdown",
   "metadata": {},
   "source": [
    "STEP 1: Load embedding 100d "
   ]
  },
  {
   "cell_type": "code",
   "execution_count": 6,
   "metadata": {},
   "outputs": [
    {
     "name": "stdout",
     "output_type": "stream",
     "text": [
      "Loaded 400000 word vectors.\n"
     ]
    }
   ],
   "source": [
    "# load the whole embedding into memory\n",
    "from numpy import array\n",
    "from numpy import asarray\n",
    "embeddings_index = dict()\n",
    "#first download the glove word emedding and then search for them\n",
    "f = open('glove.6B.50d.txt',encoding=\"utf8\")\n",
    "for line in f:\n",
    "    values = line.split()\n",
    "    word = values[0]\n",
    "    coefs = asarray(values[1:], dtype='float32')\n",
    "    embeddings_index[word] = coefs\n",
    "f.close()\n",
    "print('Loaded %s word vectors.' % len(embeddings_index))"
   ]
  },
  {
   "cell_type": "markdown",
   "metadata": {},
   "source": [
    "STEP 2: Find Professions in GloVe Embeddings"
   ]
  },
  {
   "cell_type": "code",
   "execution_count": 7,
   "metadata": {},
   "outputs": [],
   "source": [
    "# Selecting professions and she,he from glove 100d word embedding\n",
    "professions_embedding = [(key,value) for (key,value) in embeddings_index.items() if key in professions]\n",
    "\n",
    "# Saving in a CSV Dataframe for future use: \n",
    "professions_embedding_df = pd.DataFrame(professions_embedding)\n",
    "#professions_embedding_df.to_csv(r'professions_embedding_df.csv')\n",
    "a = (professions_embedding_df.iloc[:,1].values.tolist())\n",
    "b = pd.DataFrame(a)\n",
    "c = professions_embedding_df.iloc[:,0]\n",
    "professions_embedding_df = pd.concat([c,b], axis=1)\n",
    "#professions_embedding_df.to_csv(r'professions_embedding100d_df.csv')"
   ]
  },
  {
   "cell_type": "code",
   "execution_count": 8,
   "metadata": {},
   "outputs": [
    {
     "data": {
      "text/plain": [
       "299"
      ]
     },
     "execution_count": 8,
     "metadata": {},
     "output_type": "execute_result"
    }
   ],
   "source": [
    "# Note to self: 299(-2) instead of 327 professions are found\n",
    "len(professions_embedding_df)"
   ]
  },
  {
   "cell_type": "markdown",
   "metadata": {},
   "source": [
    "# Projecting Professions onto She-He Vector"
   ]
  },
  {
   "cell_type": "markdown",
   "metadata": {},
   "source": [
    "STEP 1: I normalize the vectors"
   ]
  },
  {
   "cell_type": "code",
   "execution_count": 10,
   "metadata": {},
   "outputs": [],
   "source": [
    "import numpy as np\n",
    "\n",
    "def squared (x):\n",
    "    return(x**2)\n",
    "\n",
    "def magn(df):\n",
    "    t = df.apply(squared, axis=1)\n",
    "    magnitude=np.array(np.sqrt(t.sum(axis=1)))\n",
    "    return(magnitude)\n",
    "\n",
    "# Normalizing function\n",
    "def norm(df):\n",
    "    t = df.apply(squared, axis=1)\n",
    "    magnitude=np.array(np.sqrt(t.sum(axis=1)))\n",
    "    for i in range(0,len(magnitude)):\n",
    "        df.iloc[i,:] = df.iloc[i,:]/float(magnitude[i])\n",
    "    return(df)\n",
    "\n",
    "# Embeddings Normalized:\n",
    "embedd = professions_embedding_df.iloc[:,1:101]\n",
    "norm_embedd = pd.concat([professions_embedding_df.iloc[:,0],norm(embedd)], axis=1)\n",
    "\n",
    "# Professions Subset\n",
    "professions_embedding = norm_embedd.iloc[2:len(norm_embedd),:]\n",
    "\n",
    "# he vector\n",
    "he = norm_embedd.iloc[0:1,:]\n",
    "\n",
    "# He vector\n",
    "she = norm_embedd.iloc[1:2,:]\n",
    "\n",
    "# She-He array:\n",
    "she_he_arr = np.array(she.iloc[0,1:101])-np.array(he.iloc[0,1:101])\n",
    "\n",
    "# Extracting profession names:\n",
    "professions_name = professions_embedding_df.iloc[2:299,0]"
   ]
  },
  {
   "cell_type": "markdown",
   "metadata": {},
   "source": [
    "STEP 2: Projection of occupation onto She-He vector"
   ]
  },
  {
   "cell_type": "code",
   "execution_count": 48,
   "metadata": {},
   "outputs": [],
   "source": [
    "# Projection function: Projecting vec onto she_he\n",
    "def projection(she_he,vec):\n",
    "    myvec = np.array(vec)\n",
    "    a = (np.sum(she_he*myvec))*she_he\n",
    "    return(np.sqrt(np.sum([x**2 for x in a])))"
   ]
  },
  {
   "cell_type": "code",
   "execution_count": 50,
   "metadata": {},
   "outputs": [],
   "source": [
    "# She-He Projection dataframe\n",
    "she_he_projection = []\n",
    "#she_emb = she.iloc[0,1:101]\n",
    "for i in (range(len(professions_embedding))):\n",
    "    vec = professions_embedding.iloc[i,1:101]\n",
    "    she_he_projection.append([projection(she_he_arr, vec)])\n",
    "    \n",
    "# Concatenating with Professions\n",
    "she_he_projection_df = pd.DataFrame((she_he_projection), (professions_name.values.tolist()), columns=['Projection'])"
   ]
  },
  {
   "cell_type": "markdown",
   "metadata": {},
   "source": [
    "STEP 3: Listing the 15 most Extreme she Occupations: "
   ]
  },
  {
   "cell_type": "code",
   "execution_count": 51,
   "metadata": {},
   "outputs": [
    {
     "name": "stdout",
     "output_type": "stream",
     "text": [
      "Extreme she occupations:\n"
     ]
    },
    {
     "data": {
      "text/html": [
       "<div>\n",
       "<style scoped>\n",
       "    .dataframe tbody tr th:only-of-type {\n",
       "        vertical-align: middle;\n",
       "    }\n",
       "\n",
       "    .dataframe tbody tr th {\n",
       "        vertical-align: top;\n",
       "    }\n",
       "\n",
       "    .dataframe thead th {\n",
       "        text-align: right;\n",
       "    }\n",
       "</style>\n",
       "<table border=\"1\" class=\"dataframe\">\n",
       "  <thead>\n",
       "    <tr style=\"text-align: right;\">\n",
       "      <th></th>\n",
       "      <th>Projection</th>\n",
       "    </tr>\n",
       "  </thead>\n",
       "  <tbody>\n",
       "    <tr>\n",
       "      <th>actress</th>\n",
       "      <td>0.106859</td>\n",
       "    </tr>\n",
       "    <tr>\n",
       "      <th>ballerina</th>\n",
       "      <td>0.104006</td>\n",
       "    </tr>\n",
       "    <tr>\n",
       "      <th>stylist</th>\n",
       "      <td>0.098891</td>\n",
       "    </tr>\n",
       "    <tr>\n",
       "      <th>socialite</th>\n",
       "      <td>0.096341</td>\n",
       "    </tr>\n",
       "    <tr>\n",
       "      <th>waitress</th>\n",
       "      <td>0.095476</td>\n",
       "    </tr>\n",
       "    <tr>\n",
       "      <th>coach</th>\n",
       "      <td>0.089692</td>\n",
       "    </tr>\n",
       "    <tr>\n",
       "      <th>maid</th>\n",
       "      <td>0.089131</td>\n",
       "    </tr>\n",
       "    <tr>\n",
       "      <th>narrator</th>\n",
       "      <td>0.083403</td>\n",
       "    </tr>\n",
       "    <tr>\n",
       "      <th>caretaker</th>\n",
       "      <td>0.082049</td>\n",
       "    </tr>\n",
       "    <tr>\n",
       "      <th>housewife</th>\n",
       "      <td>0.081950</td>\n",
       "    </tr>\n",
       "    <tr>\n",
       "      <th>homemaker</th>\n",
       "      <td>0.081110</td>\n",
       "    </tr>\n",
       "    <tr>\n",
       "      <th>receptionist</th>\n",
       "      <td>0.080973</td>\n",
       "    </tr>\n",
       "    <tr>\n",
       "      <th>housekeeper</th>\n",
       "      <td>0.080337</td>\n",
       "    </tr>\n",
       "    <tr>\n",
       "      <th>captain</th>\n",
       "      <td>0.080336</td>\n",
       "    </tr>\n",
       "    <tr>\n",
       "      <th>hairdresser</th>\n",
       "      <td>0.079674</td>\n",
       "    </tr>\n",
       "  </tbody>\n",
       "</table>\n",
       "</div>"
      ],
      "text/plain": [
       "              Projection\n",
       "actress         0.106859\n",
       "ballerina       0.104006\n",
       "stylist         0.098891\n",
       "socialite       0.096341\n",
       "waitress        0.095476\n",
       "coach           0.089692\n",
       "maid            0.089131\n",
       "narrator        0.083403\n",
       "caretaker       0.082049\n",
       "housewife       0.081950\n",
       "homemaker       0.081110\n",
       "receptionist    0.080973\n",
       "housekeeper     0.080337\n",
       "captain         0.080336\n",
       "hairdresser     0.079674"
      ]
     },
     "execution_count": 51,
     "metadata": {},
     "output_type": "execute_result"
    }
   ],
   "source": [
    "print(\"Extreme she occupations:\")\n",
    "she_he_projection_df.sort_values(by=\"Projection\", ascending=False).head(15)\n",
    "# 6 out of 10 (from Bolukbasi's paper) match with the 15 most Extreme she occupations"
   ]
  },
  {
   "cell_type": "markdown",
   "metadata": {},
   "source": [
    "STEP 4: Listing the 10 most Extreme she Occupations: "
   ]
  },
  {
   "cell_type": "code",
   "execution_count": 52,
   "metadata": {},
   "outputs": [
    {
     "name": "stdout",
     "output_type": "stream",
     "text": [
      "Extreme he occupations:\n"
     ]
    },
    {
     "data": {
      "text/html": [
       "<div>\n",
       "<style scoped>\n",
       "    .dataframe tbody tr th:only-of-type {\n",
       "        vertical-align: middle;\n",
       "    }\n",
       "\n",
       "    .dataframe tbody tr th {\n",
       "        vertical-align: top;\n",
       "    }\n",
       "\n",
       "    .dataframe thead th {\n",
       "        text-align: right;\n",
       "    }\n",
       "</style>\n",
       "<table border=\"1\" class=\"dataframe\">\n",
       "  <thead>\n",
       "    <tr style=\"text-align: right;\">\n",
       "      <th></th>\n",
       "      <th>Projection</th>\n",
       "    </tr>\n",
       "  </thead>\n",
       "  <tbody>\n",
       "    <tr>\n",
       "      <th>bookkeeper</th>\n",
       "      <td>0.000077</td>\n",
       "    </tr>\n",
       "    <tr>\n",
       "      <th>clerk</th>\n",
       "      <td>0.000141</td>\n",
       "    </tr>\n",
       "    <tr>\n",
       "      <th>bodyguard</th>\n",
       "      <td>0.000262</td>\n",
       "    </tr>\n",
       "    <tr>\n",
       "      <th>ambassador</th>\n",
       "      <td>0.000281</td>\n",
       "    </tr>\n",
       "    <tr>\n",
       "      <th>pathologist</th>\n",
       "      <td>0.000602</td>\n",
       "    </tr>\n",
       "    <tr>\n",
       "      <th>lyricist</th>\n",
       "      <td>0.000694</td>\n",
       "    </tr>\n",
       "    <tr>\n",
       "      <th>medic</th>\n",
       "      <td>0.000867</td>\n",
       "    </tr>\n",
       "    <tr>\n",
       "      <th>columnist</th>\n",
       "      <td>0.000999</td>\n",
       "    </tr>\n",
       "    <tr>\n",
       "      <th>planner</th>\n",
       "      <td>0.001068</td>\n",
       "    </tr>\n",
       "    <tr>\n",
       "      <th>magician</th>\n",
       "      <td>0.001432</td>\n",
       "    </tr>\n",
       "    <tr>\n",
       "      <th>soldier</th>\n",
       "      <td>0.001923</td>\n",
       "    </tr>\n",
       "    <tr>\n",
       "      <th>pharmacist</th>\n",
       "      <td>0.002139</td>\n",
       "    </tr>\n",
       "    <tr>\n",
       "      <th>boxer</th>\n",
       "      <td>0.002203</td>\n",
       "    </tr>\n",
       "    <tr>\n",
       "      <th>environmentalist</th>\n",
       "      <td>0.002289</td>\n",
       "    </tr>\n",
       "    <tr>\n",
       "      <th>laborer</th>\n",
       "      <td>0.002659</td>\n",
       "    </tr>\n",
       "  </tbody>\n",
       "</table>\n",
       "</div>"
      ],
      "text/plain": [
       "                  Projection\n",
       "bookkeeper          0.000077\n",
       "clerk               0.000141\n",
       "bodyguard           0.000262\n",
       "ambassador          0.000281\n",
       "pathologist         0.000602\n",
       "lyricist            0.000694\n",
       "medic               0.000867\n",
       "columnist           0.000999\n",
       "planner             0.001068\n",
       "magician            0.001432\n",
       "soldier             0.001923\n",
       "pharmacist          0.002139\n",
       "boxer               0.002203\n",
       "environmentalist    0.002289\n",
       "laborer             0.002659"
      ]
     },
     "execution_count": 52,
     "metadata": {},
     "output_type": "execute_result"
    }
   ],
   "source": [
    "print(\"Extreme he occupations:\")\n",
    "she_he_projection_df.sort_values(by=\"Projection\", ascending=True).head(15)\n",
    "# 1 out of 10 (from Bolukbasi's paper) match with the 15 most Extreme he occupations"
   ]
  },
  {
   "cell_type": "markdown",
   "metadata": {},
   "source": [
    "# Some Notes and Inductions: \n",
    "The He extreme occupations from GloVe 100d don't include any of the paper's extreme he occupations, unless we go to Top 25 (then we can find some similarities).\n",
    "The She extreme occupations from GloVe 100d include most of the paper's top extreme she occupations. \n",
    "\n",
    "The paper uses w2vecNEWS trained on Google News. \n",
    "We use GloVe 100d, trained on wikipedia articles.\n",
    "\n",
    "It seems that both embeddings are having similar 'she' bias in occupations. The 'he' bias is less consistent. It would be nice to repeat this process with other embeddings (like GloVe trained on common crawl or twitter) and see if that pattern also exists in those (common she biased occupations are more similar than common he biased occupations)."
   ]
  },
  {
   "cell_type": "markdown",
   "metadata": {},
   "source": [
    "# Potential Ideas\n",
    "\n",
    "- Project those 15 extreme occupations onto the she-he space and plot for some visualization\n",
    "- Project the 10 extreme occupations listed in bolukbasi onto the she-he space and plot for some visualization"
   ]
  },
  {
   "cell_type": "code",
   "execution_count": null,
   "metadata": {},
   "outputs": [],
   "source": []
  }
 ],
 "metadata": {
  "kernelspec": {
   "display_name": "Python 3",
   "language": "python",
   "name": "python3"
  },
  "language_info": {
   "codemirror_mode": {
    "name": "ipython",
    "version": 3
   },
   "file_extension": ".py",
   "mimetype": "text/x-python",
   "name": "python",
   "nbconvert_exporter": "python",
   "pygments_lexer": "ipython3",
   "version": "3.7.2"
  }
 },
 "nbformat": 4,
 "nbformat_minor": 2
}
