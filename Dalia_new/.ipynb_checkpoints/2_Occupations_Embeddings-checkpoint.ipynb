{
 "cells": [
  {
   "cell_type": "markdown",
   "metadata": {},
   "source": [
    "# Importing Professions"
   ]
  },
  {
   "cell_type": "raw",
   "metadata": {},
   "source": [
    "# Preprocessing using R: Converting JSON format to csv.\n",
    "setwd(\"/Users/daliashanshal/DS8008-project/data\")\n",
    "library(rjson)\n",
    "professionsJSON = fromJSON(file=\"professions.json\")\n",
    "myprofessions = unlist(professionsJSON)\n",
    "idx = seq(1,length(myprofessions), by=3)\n",
    "myprofessions = myprofessions[idx]\n",
    "myprofessions = c(myprofessions, \"she\", \"he\")\n",
    "myprofessions = as.data.frame(myprofessions)\n",
    "write.csv(myprofessions, file=\"myprofessions.csv\")"
   ]
  },
  {
   "cell_type": "markdown",
   "metadata": {},
   "source": [
    "STEP 1: Importing Professions CSV format"
   ]
  },
  {
   "cell_type": "code",
   "execution_count": 378,
   "metadata": {},
   "outputs": [
    {
     "name": "stdout",
     "output_type": "stream",
     "text": [
      "   Unnamed: 0 myprofessions\n",
      "0           1    accountant\n",
      "1           2  acquaintance\n",
      "2           3         actor\n",
      "3           4       actress\n"
     ]
    }
   ],
   "source": [
    "import pandas as pd\n",
    "import os\n",
    "os.getcwd()\n",
    "data = pd.read_csv(\"myprofessions.csv\", encoding=\"latin1\")\n",
    "print(data.head(4))\n",
    "# 320 professions.I added she, he at the end for embedding and pojection purposes.\n",
    "\n",
    "# I only select the professions column I want to use\n",
    "myprofessions = data.iloc[:,1]\n",
    "professions = myprofessions.values.tolist()"
   ]
  },
  {
   "cell_type": "markdown",
   "metadata": {},
   "source": [
    "STEP 2: Some Preprocessing "
   ]
  },
  {
   "cell_type": "code",
   "execution_count": 379,
   "metadata": {},
   "outputs": [],
   "source": [
    "#I want to remomve the '_', so that the word for ex, vice_chancellor\n",
    "# become vice-chancellor. I need the correct format to find it in glove\n",
    "import re\n",
    "professions = [re.sub('_', \"-\", p) for p in professions]"
   ]
  },
  {
   "cell_type": "markdown",
   "metadata": {},
   "source": [
    "# Mapping Professions to their GloVe embedding"
   ]
  },
  {
   "cell_type": "markdown",
   "metadata": {},
   "source": [
    "STEP 1: Load embedding 100d "
   ]
  },
  {
   "cell_type": "code",
   "execution_count": 380,
   "metadata": {},
   "outputs": [
    {
     "name": "stdout",
     "output_type": "stream",
     "text": [
      "Loaded 400000 word vectors.\n"
     ]
    }
   ],
   "source": [
    "# load the whole embedding into memory\n",
    "from numpy import array\n",
    "from numpy import asarray\n",
    "embeddings_index = dict()\n",
    "#first download the glove word emedding and then search for them\n",
    "f = open('glove.6B.100d.txt',encoding=\"utf8\")\n",
    "for line in f:\n",
    "    values = line.split()\n",
    "    word = values[0]\n",
    "    coefs = asarray(values[1:], dtype='float32')\n",
    "    embeddings_index[word] = coefs\n",
    "f.close()\n",
    "print('Loaded %s word vectors.' % len(embeddings_index))"
   ]
  },
  {
   "cell_type": "markdown",
   "metadata": {},
   "source": [
    "STEP 2: Find Professions in GloVe Embeddings"
   ]
  },
  {
   "cell_type": "code",
   "execution_count": 381,
   "metadata": {},
   "outputs": [],
   "source": [
    "# Selecting professions and she,he from glove 100d word embedding\n",
    "professions_embedding = [(key,value) for (key,value) in embeddings_index.items() if key in professions]\n",
    "\n",
    "# Saving in a CSV Dataframe for future use: \n",
    "professions_embedding_df = pd.DataFrame(professions_embedding)\n",
    "#professions_embedding_df.to_csv(r'professions_embedding_df.csv')\n",
    "a = (professions_embedding_df.iloc[:,1].values.tolist())\n",
    "b = pd.DataFrame(a)\n",
    "c = professions_embedding_df.iloc[:,0]\n",
    "professions_embedding_df = pd.concat([c,b], axis=1)\n",
    "#professions_embedding_df.to_csv(r'professions_embedding100d_df.csv')"
   ]
  },
  {
   "cell_type": "code",
   "execution_count": 382,
   "metadata": {},
   "outputs": [
    {
     "data": {
      "text/plain": [
       "299"
      ]
     },
     "execution_count": 382,
     "metadata": {},
     "output_type": "execute_result"
    }
   ],
   "source": [
    "# Note to self: 299(-2) instead of 327 professions are found\n",
    "len(professions_embedding_df)"
   ]
  },
  {
   "cell_type": "markdown",
   "metadata": {},
   "source": [
    "# Projecting Professions onto She-He Vector"
   ]
  },
  {
   "cell_type": "markdown",
   "metadata": {},
   "source": [
    "STEP 1: I normalize the vectors"
   ]
  },
  {
   "cell_type": "code",
   "execution_count": 397,
   "metadata": {},
   "outputs": [],
   "source": [
    "def squared (x):\n",
    "    return(x**2)\n",
    "\n",
    "def magn(df):\n",
    "    t = df.apply(squared, axis=1)\n",
    "    magnitude=np.array(np.sqrt(t.sum(axis=1)))\n",
    "    return(magnitude)\n",
    "\n",
    "# Normalizing function\n",
    "def norm(df):\n",
    "    t = df.apply(squared, axis=1)\n",
    "    magnitude=np.array(np.sqrt(t.sum(axis=1)))\n",
    "    for i in range(0,len(magnitude)):\n",
    "        df.iloc[i,:] = df.iloc[i,:]/float(magnitude[i])\n",
    "    return(df)\n",
    "\n",
    "# Embeddings Normalized:\n",
    "embedd = professions_embedding_df.iloc[:,1:101]\n",
    "norm_embedd = pd.concat([professions_embedding_df.iloc[:,0],norm(embedd)], axis=1)\n",
    "\n",
    "# Professions Subset\n",
    "professions_embedding = norm_embedd.iloc[2:len(norm_embedd),:]\n",
    "\n",
    "# he vector\n",
    "he = norm_embedd.iloc[0:1,:]\n",
    "\n",
    "# He vector\n",
    "she = norm_embedd.iloc[1:2,:]\n",
    "\n",
    "# She-He array:\n",
    "she_he_arr = np.array(she.iloc[0,1:101])-np.array(he.iloc[0,1:101])\n",
    "\n",
    "# Extracting profession names:\n",
    "professions_name = professions_embedding_df.iloc[2:299,0]"
   ]
  },
  {
   "cell_type": "markdown",
   "metadata": {},
   "source": [
    "STEP 2: Projection of occupation onto She-He vector"
   ]
  },
  {
   "cell_type": "code",
   "execution_count": 402,
   "metadata": {},
   "outputs": [],
   "source": [
    "# Projection function: Projecting vec onto she_he\n",
    "def projection(she_he,vec):\n",
    "    myvec = np.array(vec)\n",
    "    return(np.sum(np.sum(she_he*myvec)*she_he))"
   ]
  },
  {
   "cell_type": "code",
   "execution_count": 458,
   "metadata": {},
   "outputs": [],
   "source": [
    "# She-He Projection dataframe\n",
    "she_he_projection = []\n",
    "#she_emb = she.iloc[0,1:101]\n",
    "for i in (range(len(professions_embedding))):\n",
    "    vec = professions_embedding.iloc[i,1:101]\n",
    "    she_he_projection.append([projection(she_he_arr, vec)])\n",
    "    \n",
    "# Concatenating with Professions\n",
    "she_he_projection_df = pd.DataFrame((she_he_projection), (professions_name.values.tolist()), columns=['Projection'])"
   ]
  },
  {
   "cell_type": "markdown",
   "metadata": {},
   "source": [
    "STEP 3: Listing the 10 most Extreme she Occupations: "
   ]
  },
  {
   "cell_type": "code",
   "execution_count": 473,
   "metadata": {},
   "outputs": [
    {
     "name": "stdout",
     "output_type": "stream",
     "text": [
      "Extreme she occupations:\n"
     ]
    },
    {
     "data": {
      "text/html": [
       "<div>\n",
       "<style scoped>\n",
       "    .dataframe tbody tr th:only-of-type {\n",
       "        vertical-align: middle;\n",
       "    }\n",
       "\n",
       "    .dataframe tbody tr th {\n",
       "        vertical-align: top;\n",
       "    }\n",
       "\n",
       "    .dataframe thead th {\n",
       "        text-align: right;\n",
       "    }\n",
       "</style>\n",
       "<table border=\"1\" class=\"dataframe\">\n",
       "  <thead>\n",
       "    <tr style=\"text-align: right;\">\n",
       "      <th></th>\n",
       "      <th>Projection</th>\n",
       "    </tr>\n",
       "  </thead>\n",
       "  <tbody>\n",
       "    <tr>\n",
       "      <th>actress</th>\n",
       "      <td>0.282020</td>\n",
       "    </tr>\n",
       "    <tr>\n",
       "      <th>ballerina</th>\n",
       "      <td>0.268766</td>\n",
       "    </tr>\n",
       "    <tr>\n",
       "      <th>housewife</th>\n",
       "      <td>0.259859</td>\n",
       "    </tr>\n",
       "    <tr>\n",
       "      <th>waitress</th>\n",
       "      <td>0.255183</td>\n",
       "    </tr>\n",
       "    <tr>\n",
       "      <th>homemaker</th>\n",
       "      <td>0.240348</td>\n",
       "    </tr>\n",
       "    <tr>\n",
       "      <th>socialite</th>\n",
       "      <td>0.230020</td>\n",
       "    </tr>\n",
       "    <tr>\n",
       "      <th>maid</th>\n",
       "      <td>0.213354</td>\n",
       "    </tr>\n",
       "    <tr>\n",
       "      <th>stylist</th>\n",
       "      <td>0.212248</td>\n",
       "    </tr>\n",
       "    <tr>\n",
       "      <th>housekeeper</th>\n",
       "      <td>0.210419</td>\n",
       "    </tr>\n",
       "    <tr>\n",
       "      <th>businesswoman</th>\n",
       "      <td>0.200158</td>\n",
       "    </tr>\n",
       "    <tr>\n",
       "      <th>dancer</th>\n",
       "      <td>0.193059</td>\n",
       "    </tr>\n",
       "    <tr>\n",
       "      <th>nurse</th>\n",
       "      <td>0.182038</td>\n",
       "    </tr>\n",
       "    <tr>\n",
       "      <th>hairdresser</th>\n",
       "      <td>0.177020</td>\n",
       "    </tr>\n",
       "    <tr>\n",
       "      <th>receptionist</th>\n",
       "      <td>0.175676</td>\n",
       "    </tr>\n",
       "    <tr>\n",
       "      <th>nun</th>\n",
       "      <td>0.171458</td>\n",
       "    </tr>\n",
       "  </tbody>\n",
       "</table>\n",
       "</div>"
      ],
      "text/plain": [
       "               Projection\n",
       "actress          0.282020\n",
       "ballerina        0.268766\n",
       "housewife        0.259859\n",
       "waitress         0.255183\n",
       "homemaker        0.240348\n",
       "socialite        0.230020\n",
       "maid             0.213354\n",
       "stylist          0.212248\n",
       "housekeeper      0.210419\n",
       "businesswoman    0.200158\n",
       "dancer           0.193059\n",
       "nurse            0.182038\n",
       "hairdresser      0.177020\n",
       "receptionist     0.175676\n",
       "nun              0.171458"
      ]
     },
     "execution_count": 473,
     "metadata": {},
     "output_type": "execute_result"
    }
   ],
   "source": [
    "print(\"Extreme she occupations:\")\n",
    "she_he_projection_df.sort_values(by=\"Projection\", ascending=False).head(15)"
   ]
  },
  {
   "cell_type": "markdown",
   "metadata": {},
   "source": [
    "STEP 4: Listing the 10 most Extreme she Occupations: "
   ]
  },
  {
   "cell_type": "code",
   "execution_count": 474,
   "metadata": {},
   "outputs": [
    {
     "name": "stdout",
     "output_type": "stream",
     "text": [
      "Extreme he occupations:\n"
     ]
    },
    {
     "data": {
      "text/html": [
       "<div>\n",
       "<style scoped>\n",
       "    .dataframe tbody tr th:only-of-type {\n",
       "        vertical-align: middle;\n",
       "    }\n",
       "\n",
       "    .dataframe tbody tr th {\n",
       "        vertical-align: top;\n",
       "    }\n",
       "\n",
       "    .dataframe thead th {\n",
       "        text-align: right;\n",
       "    }\n",
       "</style>\n",
       "<table border=\"1\" class=\"dataframe\">\n",
       "  <thead>\n",
       "    <tr style=\"text-align: right;\">\n",
       "      <th></th>\n",
       "      <th>Projection</th>\n",
       "    </tr>\n",
       "  </thead>\n",
       "  <tbody>\n",
       "    <tr>\n",
       "      <th>infielder</th>\n",
       "      <td>-0.191437</td>\n",
       "    </tr>\n",
       "    <tr>\n",
       "      <th>coach</th>\n",
       "      <td>-0.188186</td>\n",
       "    </tr>\n",
       "    <tr>\n",
       "      <th>manager</th>\n",
       "      <td>-0.185904</td>\n",
       "    </tr>\n",
       "    <tr>\n",
       "      <th>caretaker</th>\n",
       "      <td>-0.174249</td>\n",
       "    </tr>\n",
       "    <tr>\n",
       "      <th>footballer</th>\n",
       "      <td>-0.174113</td>\n",
       "    </tr>\n",
       "    <tr>\n",
       "      <th>goalkeeper</th>\n",
       "      <td>-0.168132</td>\n",
       "    </tr>\n",
       "    <tr>\n",
       "      <th>president</th>\n",
       "      <td>-0.165253</td>\n",
       "    </tr>\n",
       "    <tr>\n",
       "      <th>midfielder</th>\n",
       "      <td>-0.158834</td>\n",
       "    </tr>\n",
       "    <tr>\n",
       "      <th>boss</th>\n",
       "      <td>-0.155584</td>\n",
       "    </tr>\n",
       "    <tr>\n",
       "      <th>marksman</th>\n",
       "      <td>-0.149974</td>\n",
       "    </tr>\n",
       "    <tr>\n",
       "      <th>minister</th>\n",
       "      <td>-0.146738</td>\n",
       "    </tr>\n",
       "    <tr>\n",
       "      <th>bureaucrat</th>\n",
       "      <td>-0.143672</td>\n",
       "    </tr>\n",
       "    <tr>\n",
       "      <th>cleric</th>\n",
       "      <td>-0.143505</td>\n",
       "    </tr>\n",
       "    <tr>\n",
       "      <th>bishop</th>\n",
       "      <td>-0.143245</td>\n",
       "    </tr>\n",
       "    <tr>\n",
       "      <th>deputy</th>\n",
       "      <td>-0.142709</td>\n",
       "    </tr>\n",
       "  </tbody>\n",
       "</table>\n",
       "</div>"
      ],
      "text/plain": [
       "            Projection\n",
       "infielder    -0.191437\n",
       "coach        -0.188186\n",
       "manager      -0.185904\n",
       "caretaker    -0.174249\n",
       "footballer   -0.174113\n",
       "goalkeeper   -0.168132\n",
       "president    -0.165253\n",
       "midfielder   -0.158834\n",
       "boss         -0.155584\n",
       "marksman     -0.149974\n",
       "minister     -0.146738\n",
       "bureaucrat   -0.143672\n",
       "cleric       -0.143505\n",
       "bishop       -0.143245\n",
       "deputy       -0.142709"
      ]
     },
     "execution_count": 474,
     "metadata": {},
     "output_type": "execute_result"
    }
   ],
   "source": [
    "print(\"Extreme he occupations:\")\n",
    "she_he_projection_df.sort_values(by=\"Projection\", ascending=True).head(15)"
   ]
  },
  {
   "cell_type": "markdown",
   "metadata": {},
   "source": [
    "# Some Notes and Inductions: \n",
    "The He extreme occupations from GloVe 100d don't include any of the paper's extreme he occupations, unless we go to Top 25 (then we can find some similarities).\n",
    "The She extreme occupations from GloVe 100d include most of the paper's top extreme she occupations. \n",
    "\n",
    "The paper uses w2vecNEWS trained on Google News. \n",
    "We use GloVe 100d, trained on wikipedia articles.\n",
    "\n",
    "It seems that both embeddings are having similar 'she' bias in occupations. The 'he' bias is less consistent. It would be nice to repeat this process with other embeddings (like GloVe trained on common crawl or twitter) and see if that pattern also exists in those (common she biased occupations are more similar than common he biased occupations)."
   ]
  },
  {
   "cell_type": "code",
   "execution_count": null,
   "metadata": {},
   "outputs": [],
   "source": []
  }
 ],
 "metadata": {
  "kernelspec": {
   "display_name": "Python 3",
   "language": "python",
   "name": "python3"
  },
  "language_info": {
   "codemirror_mode": {
    "name": "ipython",
    "version": 3
   },
   "file_extension": ".py",
   "mimetype": "text/x-python",
   "name": "python",
   "nbconvert_exporter": "python",
   "pygments_lexer": "ipython3",
   "version": "3.7.2"
  }
 },
 "nbformat": 4,
 "nbformat_minor": 2
}
